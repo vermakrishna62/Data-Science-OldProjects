{
 "cells": [
  {
   "cell_type": "code",
   "execution_count": 1,
   "id": "5023d6ad",
   "metadata": {},
   "outputs": [],
   "source": [
    "import numpy as np\n",
    "\n",
    "texts = [\n",
    "    \"I love this product!\",\n",
    "    \"This is great.\",\n",
    "    \"I'm not sure about this.\",\n",
    "    \"I dislike it.\",\n",
    "    \"This is terrible.\",\n",
    "]\n",
    "\n",
    "# Labels: 1 for positive, 0 for negative\n",
    "labels = [1, 1, 0, 0, 0]"
   ]
  },
  {
   "cell_type": "code",
   "execution_count": 2,
   "id": "1df3e1b0",
   "metadata": {},
   "outputs": [
    {
     "data": {
      "text/plain": [
       "['I love this product!',\n",
       " 'This is great.',\n",
       " \"I'm not sure about this.\",\n",
       " 'I dislike it.',\n",
       " 'This is terrible.']"
      ]
     },
     "execution_count": 2,
     "metadata": {},
     "output_type": "execute_result"
    }
   ],
   "source": [
    "texts"
   ]
  },
  {
   "cell_type": "code",
   "execution_count": 3,
   "id": "ab1b0eec",
   "metadata": {},
   "outputs": [
    {
     "name": "stderr",
     "output_type": "stream",
     "text": [
      "2023-09-24 20:23:16.593690: I tensorflow/tsl/cuda/cudart_stub.cc:28] Could not find cuda drivers on your machine, GPU will not be used.\n",
      "2023-09-24 20:23:16.689927: I tensorflow/tsl/cuda/cudart_stub.cc:28] Could not find cuda drivers on your machine, GPU will not be used.\n",
      "2023-09-24 20:23:16.690975: I tensorflow/core/platform/cpu_feature_guard.cc:182] This TensorFlow binary is optimized to use available CPU instructions in performance-critical operations.\n",
      "To enable the following instructions: AVX2 FMA, in other operations, rebuild TensorFlow with the appropriate compiler flags.\n",
      "2023-09-24 20:23:18.115023: W tensorflow/compiler/tf2tensorrt/utils/py_utils.cc:38] TF-TRT Warning: Could not find TensorRT\n"
     ]
    }
   ],
   "source": [
    "import tensorflow as tf\n",
    "from tensorflow.keras.preprocessing.text import Tokenizer\n",
    "from tensorflow.keras.preprocessing.sequence import pad_sequences\n",
    "from tensorflow.keras.models import Sequential\n",
    "from tensorflow.keras.layers import Embedding, LSTM, Dense"
   ]
  },
  {
   "cell_type": "code",
   "execution_count": 4,
   "id": "cc141cb5",
   "metadata": {},
   "outputs": [],
   "source": [
    "vocab_size = 1000    # Size of the vocabulary\n",
    "max_length = 20      # Maximum length of each sequence\n",
    "embedding_dim = 16   # Dimension of word embeddings\n",
    "num_epochs = 50      # Number of training epochs\n",
    "batch_size = 2      # Batch size for training"
   ]
  },
  {
   "cell_type": "code",
   "execution_count": 5,
   "id": "00c93de0",
   "metadata": {},
   "outputs": [],
   "source": [
    "tokenizer = Tokenizer(num_words=vocab_size)\n",
    "tokenizer.fit_on_texts(texts)\n",
    "sequences = tokenizer.texts_to_sequences(texts)"
   ]
  },
  {
   "cell_type": "code",
   "execution_count": 6,
   "id": "cc7e7578",
   "metadata": {},
   "outputs": [],
   "source": [
    "sequences = pad_sequences(sequences, maxlen=max_length, padding='post', truncating='post')"
   ]
  },
  {
   "cell_type": "code",
   "execution_count": 7,
   "id": "ed488e08",
   "metadata": {},
   "outputs": [
    {
     "name": "stderr",
     "output_type": "stream",
     "text": [
      "2023-09-24 20:23:20.971439: I tensorflow/core/common_runtime/executor.cc:1197] [/device:CPU:0] (DEBUG INFO) Executor start aborting (this does not indicate an error and you can ignore this message): INVALID_ARGUMENT: You must feed a value for placeholder tensor 'gradients/split_2_grad/concat/split_2/split_dim' with dtype int32\n",
      "\t [[{{node gradients/split_2_grad/concat/split_2/split_dim}}]]\n",
      "2023-09-24 20:23:20.974416: I tensorflow/core/common_runtime/executor.cc:1197] [/device:CPU:0] (DEBUG INFO) Executor start aborting (this does not indicate an error and you can ignore this message): INVALID_ARGUMENT: You must feed a value for placeholder tensor 'gradients/split_grad/concat/split/split_dim' with dtype int32\n",
      "\t [[{{node gradients/split_grad/concat/split/split_dim}}]]\n",
      "2023-09-24 20:23:20.976368: I tensorflow/core/common_runtime/executor.cc:1197] [/device:CPU:0] (DEBUG INFO) Executor start aborting (this does not indicate an error and you can ignore this message): INVALID_ARGUMENT: You must feed a value for placeholder tensor 'gradients/split_1_grad/concat/split_1/split_dim' with dtype int32\n",
      "\t [[{{node gradients/split_1_grad/concat/split_1/split_dim}}]]\n"
     ]
    }
   ],
   "source": [
    "model = Sequential()\n",
    "model.add(Embedding(input_dim=vocab_size, output_dim=embedding_dim, input_length=max_length))\n",
    "model.add(LSTM(32))\n",
    "model.add(Dense(1, activation='sigmoid'))"
   ]
  },
  {
   "cell_type": "code",
   "execution_count": 8,
   "id": "98b7a449",
   "metadata": {},
   "outputs": [],
   "source": [
    "model.compile(optimizer='adam', loss='binary_crossentropy', metrics=['accuracy'])"
   ]
  },
  {
   "cell_type": "code",
   "execution_count": 9,
   "id": "2fdae269",
   "metadata": {},
   "outputs": [],
   "source": [
    "labels = np.array(labels)"
   ]
  },
  {
   "cell_type": "code",
   "execution_count": 10,
   "id": "06a4b4a6",
   "metadata": {},
   "outputs": [
    {
     "name": "stdout",
     "output_type": "stream",
     "text": [
      "Epoch 1/50\n"
     ]
    },
    {
     "name": "stderr",
     "output_type": "stream",
     "text": [
      "2023-09-24 20:23:21.618060: I tensorflow/core/common_runtime/executor.cc:1197] [/device:CPU:0] (DEBUG INFO) Executor start aborting (this does not indicate an error and you can ignore this message): INVALID_ARGUMENT: You must feed a value for placeholder tensor 'gradients/split_2_grad/concat/split_2/split_dim' with dtype int32\n",
      "\t [[{{node gradients/split_2_grad/concat/split_2/split_dim}}]]\n",
      "2023-09-24 20:23:21.620750: I tensorflow/core/common_runtime/executor.cc:1197] [/device:CPU:0] (DEBUG INFO) Executor start aborting (this does not indicate an error and you can ignore this message): INVALID_ARGUMENT: You must feed a value for placeholder tensor 'gradients/split_grad/concat/split/split_dim' with dtype int32\n",
      "\t [[{{node gradients/split_grad/concat/split/split_dim}}]]\n",
      "2023-09-24 20:23:21.622963: I tensorflow/core/common_runtime/executor.cc:1197] [/device:CPU:0] (DEBUG INFO) Executor start aborting (this does not indicate an error and you can ignore this message): INVALID_ARGUMENT: You must feed a value for placeholder tensor 'gradients/split_1_grad/concat/split_1/split_dim' with dtype int32\n",
      "\t [[{{node gradients/split_1_grad/concat/split_1/split_dim}}]]\n",
      "2023-09-24 20:23:22.758510: I tensorflow/core/common_runtime/executor.cc:1197] [/device:CPU:0] (DEBUG INFO) Executor start aborting (this does not indicate an error and you can ignore this message): INVALID_ARGUMENT: You must feed a value for placeholder tensor 'gradients/split_2_grad/concat/split_2/split_dim' with dtype int32\n",
      "\t [[{{node gradients/split_2_grad/concat/split_2/split_dim}}]]\n",
      "2023-09-24 20:23:22.765503: I tensorflow/core/common_runtime/executor.cc:1197] [/device:CPU:0] (DEBUG INFO) Executor start aborting (this does not indicate an error and you can ignore this message): INVALID_ARGUMENT: You must feed a value for placeholder tensor 'gradients/split_grad/concat/split/split_dim' with dtype int32\n",
      "\t [[{{node gradients/split_grad/concat/split/split_dim}}]]\n",
      "2023-09-24 20:23:22.767824: I tensorflow/core/common_runtime/executor.cc:1197] [/device:CPU:0] (DEBUG INFO) Executor start aborting (this does not indicate an error and you can ignore this message): INVALID_ARGUMENT: You must feed a value for placeholder tensor 'gradients/split_1_grad/concat/split_1/split_dim' with dtype int32\n",
      "\t [[{{node gradients/split_1_grad/concat/split_1/split_dim}}]]\n"
     ]
    },
    {
     "name": "stdout",
     "output_type": "stream",
     "text": [
      "3/3 [==============================] - 3s 16ms/step - loss: 0.6946 - accuracy: 0.6000\n",
      "Epoch 2/50\n",
      "3/3 [==============================] - 0s 15ms/step - loss: 0.6904 - accuracy: 0.6000\n",
      "Epoch 3/50\n",
      "3/3 [==============================] - 0s 16ms/step - loss: 0.6896 - accuracy: 0.6000\n",
      "Epoch 4/50\n",
      "3/3 [==============================] - 0s 17ms/step - loss: 0.6893 - accuracy: 0.6000\n",
      "Epoch 5/50\n",
      "3/3 [==============================] - 0s 14ms/step - loss: 0.6894 - accuracy: 0.6000\n",
      "Epoch 6/50\n",
      "3/3 [==============================] - 0s 18ms/step - loss: 0.6886 - accuracy: 0.6000\n",
      "Epoch 7/50\n",
      "3/3 [==============================] - 0s 16ms/step - loss: 0.6880 - accuracy: 0.6000\n",
      "Epoch 8/50\n",
      "3/3 [==============================] - 0s 16ms/step - loss: 0.6879 - accuracy: 0.6000\n",
      "Epoch 9/50\n",
      "3/3 [==============================] - 0s 16ms/step - loss: 0.6870 - accuracy: 0.6000\n",
      "Epoch 10/50\n",
      "3/3 [==============================] - 0s 18ms/step - loss: 0.6864 - accuracy: 0.6000\n",
      "Epoch 11/50\n",
      "3/3 [==============================] - 0s 29ms/step - loss: 0.6852 - accuracy: 0.6000\n",
      "Epoch 12/50\n",
      "3/3 [==============================] - 0s 15ms/step - loss: 0.6842 - accuracy: 0.6000\n",
      "Epoch 13/50\n",
      "3/3 [==============================] - 0s 16ms/step - loss: 0.6843 - accuracy: 0.6000\n",
      "Epoch 14/50\n",
      "3/3 [==============================] - 0s 17ms/step - loss: 0.6823 - accuracy: 0.6000\n",
      "Epoch 15/50\n",
      "3/3 [==============================] - 0s 15ms/step - loss: 0.6811 - accuracy: 0.6000\n",
      "Epoch 16/50\n",
      "3/3 [==============================] - 0s 20ms/step - loss: 0.6829 - accuracy: 0.6000\n",
      "Epoch 17/50\n",
      "3/3 [==============================] - 0s 16ms/step - loss: 0.6783 - accuracy: 0.6000\n",
      "Epoch 18/50\n",
      "3/3 [==============================] - 0s 17ms/step - loss: 0.6803 - accuracy: 0.6000\n",
      "Epoch 19/50\n",
      "3/3 [==============================] - 0s 15ms/step - loss: 0.6770 - accuracy: 0.6000\n",
      "Epoch 20/50\n",
      "3/3 [==============================] - 0s 16ms/step - loss: 0.6758 - accuracy: 0.6000\n",
      "Epoch 21/50\n",
      "3/3 [==============================] - 0s 17ms/step - loss: 0.6736 - accuracy: 0.6000\n",
      "Epoch 22/50\n",
      "3/3 [==============================] - 0s 20ms/step - loss: 0.6735 - accuracy: 0.6000\n",
      "Epoch 23/50\n",
      "3/3 [==============================] - 0s 20ms/step - loss: 0.6727 - accuracy: 0.6000\n",
      "Epoch 24/50\n",
      "3/3 [==============================] - 0s 20ms/step - loss: 0.6695 - accuracy: 0.6000\n",
      "Epoch 25/50\n",
      "3/3 [==============================] - 0s 20ms/step - loss: 0.6683 - accuracy: 0.6000\n",
      "Epoch 26/50\n",
      "3/3 [==============================] - 0s 19ms/step - loss: 0.6671 - accuracy: 0.6000\n",
      "Epoch 27/50\n",
      "3/3 [==============================] - 0s 18ms/step - loss: 0.6617 - accuracy: 0.6000\n",
      "Epoch 28/50\n",
      "3/3 [==============================] - 0s 18ms/step - loss: 0.6607 - accuracy: 0.6000\n",
      "Epoch 29/50\n",
      "3/3 [==============================] - 0s 17ms/step - loss: 0.6469 - accuracy: 0.6000\n",
      "Epoch 30/50\n",
      "3/3 [==============================] - 0s 19ms/step - loss: 0.6305 - accuracy: 0.6000\n",
      "Epoch 31/50\n",
      "3/3 [==============================] - 0s 20ms/step - loss: 0.5964 - accuracy: 0.6000\n",
      "Epoch 32/50\n",
      "3/3 [==============================] - 0s 18ms/step - loss: 0.5783 - accuracy: 0.6000\n",
      "Epoch 33/50\n",
      "3/3 [==============================] - 0s 24ms/step - loss: 0.4971 - accuracy: 0.6000\n",
      "Epoch 34/50\n",
      "3/3 [==============================] - 0s 19ms/step - loss: 0.4218 - accuracy: 0.6000\n",
      "Epoch 35/50\n",
      "3/3 [==============================] - 0s 20ms/step - loss: 0.3375 - accuracy: 0.8000\n",
      "Epoch 36/50\n",
      "3/3 [==============================] - 0s 19ms/step - loss: 0.2932 - accuracy: 1.0000\n",
      "Epoch 37/50\n",
      "3/3 [==============================] - 0s 17ms/step - loss: 0.2321 - accuracy: 1.0000\n",
      "Epoch 38/50\n",
      "3/3 [==============================] - 0s 19ms/step - loss: 0.1917 - accuracy: 1.0000\n",
      "Epoch 39/50\n",
      "3/3 [==============================] - 0s 16ms/step - loss: 0.1722 - accuracy: 1.0000\n",
      "Epoch 40/50\n",
      "3/3 [==============================] - 0s 16ms/step - loss: 0.1567 - accuracy: 1.0000\n",
      "Epoch 41/50\n",
      "3/3 [==============================] - 0s 14ms/step - loss: 0.1439 - accuracy: 1.0000\n",
      "Epoch 42/50\n",
      "3/3 [==============================] - 0s 16ms/step - loss: 0.1270 - accuracy: 1.0000\n",
      "Epoch 43/50\n",
      "3/3 [==============================] - 0s 17ms/step - loss: 0.1156 - accuracy: 1.0000\n",
      "Epoch 44/50\n",
      "3/3 [==============================] - 0s 16ms/step - loss: 0.1013 - accuracy: 1.0000\n",
      "Epoch 45/50\n",
      "3/3 [==============================] - 0s 14ms/step - loss: 0.0934 - accuracy: 1.0000\n",
      "Epoch 46/50\n",
      "3/3 [==============================] - 0s 15ms/step - loss: 0.0799 - accuracy: 1.0000\n",
      "Epoch 47/50\n",
      "3/3 [==============================] - 0s 14ms/step - loss: 0.0737 - accuracy: 1.0000\n",
      "Epoch 48/50\n",
      "3/3 [==============================] - 0s 14ms/step - loss: 0.0652 - accuracy: 1.0000\n",
      "Epoch 49/50\n",
      "3/3 [==============================] - 0s 14ms/step - loss: 0.0561 - accuracy: 1.0000\n",
      "Epoch 50/50\n",
      "3/3 [==============================] - 0s 15ms/step - loss: 0.0510 - accuracy: 1.0000\n"
     ]
    },
    {
     "data": {
      "text/plain": [
       "<keras.callbacks.History at 0x7fc830045090>"
      ]
     },
     "execution_count": 10,
     "metadata": {},
     "output_type": "execute_result"
    }
   ],
   "source": [
    "model.fit(sequences, labels, epochs=num_epochs, batch_size=batch_size)"
   ]
  },
  {
   "cell_type": "code",
   "execution_count": 11,
   "id": "f9ee2bbe",
   "metadata": {},
   "outputs": [],
   "source": [
    "new_samples = [\n",
    "    \"This is fantastic!\",\n",
    "    \"I can't stand it.\",\n",
    "    \"I dislike it.\",\n",
    "    \"Amazing product!\"\n",
    "]"
   ]
  },
  {
   "cell_type": "code",
   "execution_count": 12,
   "id": "ef54649b",
   "metadata": {},
   "outputs": [],
   "source": [
    "new_sequences = tokenizer.texts_to_sequences(new_samples)\n",
    "new_sequences = pad_sequences(new_sequences, maxlen=max_length, padding='post', truncating='post')"
   ]
  },
  {
   "cell_type": "code",
   "execution_count": 13,
   "id": "35faf56b",
   "metadata": {},
   "outputs": [
    {
     "name": "stderr",
     "output_type": "stream",
     "text": [
      "2023-09-24 20:23:28.320998: I tensorflow/core/common_runtime/executor.cc:1197] [/device:CPU:0] (DEBUG INFO) Executor start aborting (this does not indicate an error and you can ignore this message): INVALID_ARGUMENT: You must feed a value for placeholder tensor 'gradients/split_2_grad/concat/split_2/split_dim' with dtype int32\n",
      "\t [[{{node gradients/split_2_grad/concat/split_2/split_dim}}]]\n",
      "2023-09-24 20:23:28.324345: I tensorflow/core/common_runtime/executor.cc:1197] [/device:CPU:0] (DEBUG INFO) Executor start aborting (this does not indicate an error and you can ignore this message): INVALID_ARGUMENT: You must feed a value for placeholder tensor 'gradients/split_grad/concat/split/split_dim' with dtype int32\n",
      "\t [[{{node gradients/split_grad/concat/split/split_dim}}]]\n",
      "2023-09-24 20:23:28.326393: I tensorflow/core/common_runtime/executor.cc:1197] [/device:CPU:0] (DEBUG INFO) Executor start aborting (this does not indicate an error and you can ignore this message): INVALID_ARGUMENT: You must feed a value for placeholder tensor 'gradients/split_1_grad/concat/split_1/split_dim' with dtype int32\n",
      "\t [[{{node gradients/split_1_grad/concat/split_1/split_dim}}]]\n"
     ]
    },
    {
     "name": "stdout",
     "output_type": "stream",
     "text": [
      "1/1 [==============================] - 1s 826ms/step\n"
     ]
    }
   ],
   "source": [
    "predictions = model.predict(new_sequences)"
   ]
  },
  {
   "cell_type": "code",
   "execution_count": 14,
   "id": "b57a6ad0",
   "metadata": {},
   "outputs": [
    {
     "data": {
      "text/plain": [
       "array([[0.88213336],\n",
       "       [0.0028949 ],\n",
       "       [0.00285543],\n",
       "       [0.8922664 ]], dtype=float32)"
      ]
     },
     "execution_count": 14,
     "metadata": {},
     "output_type": "execute_result"
    }
   ],
   "source": [
    "predictions"
   ]
  },
  {
   "cell_type": "code",
   "execution_count": 15,
   "id": "deec6691",
   "metadata": {},
   "outputs": [
    {
     "name": "stdout",
     "output_type": "stream",
     "text": [
      "Review: This is fantastic!\n",
      "Sentiment: Positive\n",
      "\n",
      "Review: I can't stand it.\n",
      "Sentiment: Negative\n",
      "\n",
      "Review: I dislike it.\n",
      "Sentiment: Negative\n",
      "\n",
      "Review: Amazing product!\n",
      "Sentiment: Positive\n",
      "\n"
     ]
    }
   ],
   "source": [
    "for sample, prediction in zip(new_samples, predictions):\n",
    "    sentiment = \"Positive\" if prediction >= 0.5 else \"Negative\"\n",
    "    print(f\"Review: {sample}\\nSentiment: {sentiment}\\n\")"
   ]
  }
 ],
 "metadata": {
  "kernelspec": {
   "display_name": "Python 3 (ipykernel)",
   "language": "python",
   "name": "python3"
  },
  "language_info": {
   "codemirror_mode": {
    "name": "ipython",
    "version": 3
   },
   "file_extension": ".py",
   "mimetype": "text/x-python",
   "name": "python",
   "nbconvert_exporter": "python",
   "pygments_lexer": "ipython3",
   "version": "3.10.9"
  }
 },
 "nbformat": 4,
 "nbformat_minor": 5
}
