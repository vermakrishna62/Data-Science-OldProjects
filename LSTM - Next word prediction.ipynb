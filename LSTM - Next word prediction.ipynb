{
 "cells": [
  {
   "cell_type": "code",
   "execution_count": 1,
   "id": "6e215533",
   "metadata": {},
   "outputs": [],
   "source": [
    "import tensorflow as tf\n",
    "from tensorflow.keras.preprocessing.text import Tokenizer"
   ]
  },
  {
   "cell_type": "code",
   "execution_count": 2,
   "id": "ef2b2f98",
   "metadata": {},
   "outputs": [],
   "source": [
    "tokenizer = Tokenizer()"
   ]
  },
  {
   "cell_type": "code",
   "execution_count": 15,
   "id": "29755dd4",
   "metadata": {},
   "outputs": [],
   "source": [
    "text_data = \"\"\"It was the best of time,\n",
    "it was the worst of time and alas i'm relaxed,\n",
    "it was the age of wisdom, \n",
    "it was the age of foolishness\n",
    "\"\"\""
   ]
  },
  {
   "cell_type": "code",
   "execution_count": 16,
   "id": "ab40471c",
   "metadata": {},
   "outputs": [],
   "source": [
    "tokenizer.fit_on_texts([text_data])"
   ]
  },
  {
   "cell_type": "code",
   "execution_count": 17,
   "id": "b72c9f6a",
   "metadata": {},
   "outputs": [
    {
     "data": {
      "text/plain": [
       "{'t': 1,\n",
       " 's': 2,\n",
       " 'e': 3,\n",
       " 'i': 4,\n",
       " 'o': 5,\n",
       " 'w': 6,\n",
       " 'a': 7,\n",
       " 'h': 8,\n",
       " 'f': 9,\n",
       " 'it': 10,\n",
       " 'was': 11,\n",
       " 'the': 12,\n",
       " 'of': 13,\n",
       " 'm': 14,\n",
       " 'g': 15,\n",
       " 'time': 16,\n",
       " 'age': 17,\n",
       " 'b': 18,\n",
       " 'r': 19,\n",
       " 'd': 20,\n",
       " 'l': 21,\n",
       " 'n': 22,\n",
       " 'best': 23,\n",
       " 'worst': 24,\n",
       " 'wisdom': 25,\n",
       " 'foolishness': 26,\n",
       " 'and': 27,\n",
       " 'alas': 28,\n",
       " \"i'm\": 29,\n",
       " 'relaxed': 30}"
      ]
     },
     "execution_count": 17,
     "metadata": {},
     "output_type": "execute_result"
    }
   ],
   "source": [
    "tokenizer.word_index"
   ]
  },
  {
   "cell_type": "code",
   "execution_count": 18,
   "id": "1da3e585",
   "metadata": {},
   "outputs": [
    {
     "data": {
      "text/plain": [
       "OrderedDict([('i', 16),\n",
       "             ('t', 24),\n",
       "             ('w', 12),\n",
       "             ('a', 12),\n",
       "             ('s', 20),\n",
       "             ('h', 10),\n",
       "             ('e', 20),\n",
       "             ('b', 2),\n",
       "             ('o', 16),\n",
       "             ('f', 10),\n",
       "             ('m', 6),\n",
       "             ('r', 2),\n",
       "             ('g', 4),\n",
       "             ('d', 2),\n",
       "             ('l', 2),\n",
       "             ('n', 2),\n",
       "             ('it', 8),\n",
       "             ('was', 8),\n",
       "             ('the', 8),\n",
       "             ('best', 2),\n",
       "             ('of', 8),\n",
       "             ('time', 4),\n",
       "             ('worst', 2),\n",
       "             ('age', 4),\n",
       "             ('wisdom', 2),\n",
       "             ('foolishness', 2),\n",
       "             ('and', 1),\n",
       "             ('alas', 1),\n",
       "             (\"i'm\", 1),\n",
       "             ('relaxed', 1)])"
      ]
     },
     "execution_count": 18,
     "metadata": {},
     "output_type": "execute_result"
    }
   ],
   "source": [
    "tokenizer.word_counts"
   ]
  },
  {
   "cell_type": "code",
   "execution_count": 22,
   "id": "e987ce7e",
   "metadata": {},
   "outputs": [],
   "source": [
    "\n",
    "input_sequences = []\n",
    "\n",
    "for sentence in text_data.split('\\n'):\n",
    "    \n",
    "    tokenized_sent = tokenizer.texts_to_sequences([sentence])[0]\n",
    "    \n",
    "    for i in range(1,len(tokenized_sent)):\n",
    "        input_sequences.append(tokenized_sent[:i+1])\n",
    "        "
   ]
  },
  {
   "cell_type": "code",
   "execution_count": 23,
   "id": "245b4024",
   "metadata": {},
   "outputs": [
    {
     "data": {
      "text/plain": [
       "[[10, 11],\n",
       " [10, 11, 12],\n",
       " [10, 11, 12, 23],\n",
       " [10, 11, 12, 23, 13],\n",
       " [10, 11, 12, 23, 13, 16],\n",
       " [10, 11],\n",
       " [10, 11, 12],\n",
       " [10, 11, 12, 24],\n",
       " [10, 11, 12, 24, 13],\n",
       " [10, 11, 12, 24, 13, 16],\n",
       " [10, 11, 12, 24, 13, 16, 27],\n",
       " [10, 11, 12, 24, 13, 16, 27, 28],\n",
       " [10, 11, 12, 24, 13, 16, 27, 28, 29],\n",
       " [10, 11, 12, 24, 13, 16, 27, 28, 29, 30],\n",
       " [10, 11],\n",
       " [10, 11, 12],\n",
       " [10, 11, 12, 17],\n",
       " [10, 11, 12, 17, 13],\n",
       " [10, 11, 12, 17, 13, 25],\n",
       " [10, 11],\n",
       " [10, 11, 12],\n",
       " [10, 11, 12, 17],\n",
       " [10, 11, 12, 17, 13],\n",
       " [10, 11, 12, 17, 13, 26]]"
      ]
     },
     "execution_count": 23,
     "metadata": {},
     "output_type": "execute_result"
    }
   ],
   "source": [
    "input_sequences"
   ]
  },
  {
   "cell_type": "code",
   "execution_count": 28,
   "id": "6a719d4f",
   "metadata": {},
   "outputs": [],
   "source": [
    "max_len = max([len(x) for x in input_sequences])"
   ]
  },
  {
   "cell_type": "code",
   "execution_count": 29,
   "id": "2afa4066",
   "metadata": {},
   "outputs": [
    {
     "data": {
      "text/plain": [
       "10"
      ]
     },
     "execution_count": 29,
     "metadata": {},
     "output_type": "execute_result"
    }
   ],
   "source": [
    "max_len"
   ]
  },
  {
   "cell_type": "code",
   "execution_count": 30,
   "id": "42bb988d",
   "metadata": {},
   "outputs": [],
   "source": [
    "from tensorflow.keras.preprocessing.sequence import pad_sequences"
   ]
  },
  {
   "cell_type": "code",
   "execution_count": 33,
   "id": "d149ab56",
   "metadata": {},
   "outputs": [],
   "source": [
    "padded_input_seq = pad_sequences(input_sequences,max_len,padding='pre')"
   ]
  },
  {
   "cell_type": "code",
   "execution_count": 34,
   "id": "8c95c427",
   "metadata": {},
   "outputs": [
    {
     "data": {
      "text/plain": [
       "array([[ 0,  0,  0,  0,  0,  0,  0,  0, 10, 11],\n",
       "       [ 0,  0,  0,  0,  0,  0,  0, 10, 11, 12],\n",
       "       [ 0,  0,  0,  0,  0,  0, 10, 11, 12, 23],\n",
       "       [ 0,  0,  0,  0,  0, 10, 11, 12, 23, 13],\n",
       "       [ 0,  0,  0,  0, 10, 11, 12, 23, 13, 16],\n",
       "       [ 0,  0,  0,  0,  0,  0,  0,  0, 10, 11],\n",
       "       [ 0,  0,  0,  0,  0,  0,  0, 10, 11, 12],\n",
       "       [ 0,  0,  0,  0,  0,  0, 10, 11, 12, 24],\n",
       "       [ 0,  0,  0,  0,  0, 10, 11, 12, 24, 13],\n",
       "       [ 0,  0,  0,  0, 10, 11, 12, 24, 13, 16],\n",
       "       [ 0,  0,  0, 10, 11, 12, 24, 13, 16, 27],\n",
       "       [ 0,  0, 10, 11, 12, 24, 13, 16, 27, 28],\n",
       "       [ 0, 10, 11, 12, 24, 13, 16, 27, 28, 29],\n",
       "       [10, 11, 12, 24, 13, 16, 27, 28, 29, 30],\n",
       "       [ 0,  0,  0,  0,  0,  0,  0,  0, 10, 11],\n",
       "       [ 0,  0,  0,  0,  0,  0,  0, 10, 11, 12],\n",
       "       [ 0,  0,  0,  0,  0,  0, 10, 11, 12, 17],\n",
       "       [ 0,  0,  0,  0,  0, 10, 11, 12, 17, 13],\n",
       "       [ 0,  0,  0,  0, 10, 11, 12, 17, 13, 25],\n",
       "       [ 0,  0,  0,  0,  0,  0,  0,  0, 10, 11],\n",
       "       [ 0,  0,  0,  0,  0,  0,  0, 10, 11, 12],\n",
       "       [ 0,  0,  0,  0,  0,  0, 10, 11, 12, 17],\n",
       "       [ 0,  0,  0,  0,  0, 10, 11, 12, 17, 13],\n",
       "       [ 0,  0,  0,  0, 10, 11, 12, 17, 13, 26]], dtype=int32)"
      ]
     },
     "execution_count": 34,
     "metadata": {},
     "output_type": "execute_result"
    }
   ],
   "source": [
    "padded_input_seq"
   ]
  },
  {
   "cell_type": "code",
   "execution_count": 52,
   "id": "d1507214",
   "metadata": {},
   "outputs": [],
   "source": [
    "X = padded_input_seq[:,:-1]"
   ]
  },
  {
   "cell_type": "code",
   "execution_count": 54,
   "id": "2191578f",
   "metadata": {},
   "outputs": [
    {
     "data": {
      "text/plain": [
       "array([[ 0,  0,  0,  0,  0,  0,  0,  0, 10],\n",
       "       [ 0,  0,  0,  0,  0,  0,  0, 10, 11],\n",
       "       [ 0,  0,  0,  0,  0,  0, 10, 11, 12],\n",
       "       [ 0,  0,  0,  0,  0, 10, 11, 12, 23],\n",
       "       [ 0,  0,  0,  0, 10, 11, 12, 23, 13],\n",
       "       [ 0,  0,  0,  0,  0,  0,  0,  0, 10],\n",
       "       [ 0,  0,  0,  0,  0,  0,  0, 10, 11],\n",
       "       [ 0,  0,  0,  0,  0,  0, 10, 11, 12],\n",
       "       [ 0,  0,  0,  0,  0, 10, 11, 12, 24],\n",
       "       [ 0,  0,  0,  0, 10, 11, 12, 24, 13],\n",
       "       [ 0,  0,  0, 10, 11, 12, 24, 13, 16],\n",
       "       [ 0,  0, 10, 11, 12, 24, 13, 16, 27],\n",
       "       [ 0, 10, 11, 12, 24, 13, 16, 27, 28],\n",
       "       [10, 11, 12, 24, 13, 16, 27, 28, 29],\n",
       "       [ 0,  0,  0,  0,  0,  0,  0,  0, 10],\n",
       "       [ 0,  0,  0,  0,  0,  0,  0, 10, 11],\n",
       "       [ 0,  0,  0,  0,  0,  0, 10, 11, 12],\n",
       "       [ 0,  0,  0,  0,  0, 10, 11, 12, 17],\n",
       "       [ 0,  0,  0,  0, 10, 11, 12, 17, 13],\n",
       "       [ 0,  0,  0,  0,  0,  0,  0,  0, 10],\n",
       "       [ 0,  0,  0,  0,  0,  0,  0, 10, 11],\n",
       "       [ 0,  0,  0,  0,  0,  0, 10, 11, 12],\n",
       "       [ 0,  0,  0,  0,  0, 10, 11, 12, 17],\n",
       "       [ 0,  0,  0,  0, 10, 11, 12, 17, 13]], dtype=int32)"
      ]
     },
     "execution_count": 54,
     "metadata": {},
     "output_type": "execute_result"
    }
   ],
   "source": [
    "X"
   ]
  },
  {
   "cell_type": "code",
   "execution_count": 55,
   "id": "723751c7",
   "metadata": {},
   "outputs": [],
   "source": [
    "y = padded_input_seq[:,-1]"
   ]
  },
  {
   "cell_type": "code",
   "execution_count": 56,
   "id": "b516c82b",
   "metadata": {},
   "outputs": [
    {
     "data": {
      "text/plain": [
       "array([11, 12, 23, 13, 16, 11, 12, 24, 13, 16, 27, 28, 29, 30, 11, 12, 17,\n",
       "       13, 25, 11, 12, 17, 13, 26], dtype=int32)"
      ]
     },
     "execution_count": 56,
     "metadata": {},
     "output_type": "execute_result"
    }
   ],
   "source": [
    "y"
   ]
  }
 ],
 "metadata": {
  "kernelspec": {
   "display_name": "Python 3 (ipykernel)",
   "language": "python",
   "name": "python3"
  },
  "language_info": {
   "codemirror_mode": {
    "name": "ipython",
    "version": 3
   },
   "file_extension": ".py",
   "mimetype": "text/x-python",
   "name": "python",
   "nbconvert_exporter": "python",
   "pygments_lexer": "ipython3",
   "version": "3.10.9"
  }
 },
 "nbformat": 4,
 "nbformat_minor": 5
}
